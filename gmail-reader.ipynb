{
 "cells": [
  {
   "cell_type": "code",
   "execution_count": 9,
   "metadata": {},
   "outputs": [],
   "source": [
    "import sqlite3\n",
    "# conn = sqlite3.connect('departures.db')\n",
    "conn = sqlite3.connect('departures.db')\n",
    "cursor = conn.cursor()"
   ]
  },
  {
   "cell_type": "code",
   "execution_count": 10,
   "metadata": {},
   "outputs": [],
   "source": [
    "rows = cursor.execute(\"SELECT * FROM email_alerts\").fetchall()"
   ]
  },
  {
   "cell_type": "code",
   "execution_count": 11,
   "metadata": {},
   "outputs": [],
   "source": [
    "# get last date\n",
    "rows = cursor.execute(\"SELECT date FROM email_alerts GROUP BY date ORDER BY date desc LIMIT 1\").fetchall()"
   ]
  },
  {
   "cell_type": "code",
   "execution_count": 12,
   "metadata": {},
   "outputs": [
    {
     "name": "stdout",
     "output_type": "stream",
     "text": [
      "('2023-08-19 00:55:25-07:00',)\n"
     ]
    }
   ],
   "source": [
    "for r in rows:\n",
    "    print(r)"
   ]
  },
  {
   "cell_type": "code",
   "execution_count": 3,
   "metadata": {},
   "outputs": [
    {
     "name": "stdout",
     "output_type": "stream",
     "text": [
      "Please visit this URL to authorize this application: https://accounts.google.com/o/oauth2/auth?response_type=code&client_id=592231932452-85aiibv6b4521hfk53mg3eip294mqlrs.apps.googleusercontent.com&redirect_uri=http%3A%2F%2Flocalhost%3A57734%2F&scope=https%3A%2F%2Fwww.googleapis.com%2Fauth%2Fgmail.readonly&state=hMH5RQniqiG12qDxPmt3b8AdMX3pBa&access_type=offline\n"
     ]
    }
   ],
   "source": [
    "from google.auth.transport.requests import Request\n",
    "from google.oauth2.credentials import Credentials\n",
    "from google_auth_oauthlib.flow import InstalledAppFlow\n",
    "from googleapiclient.discovery import build\n",
    "from googleapiclient.errors import HttpError\n",
    "\n",
    "import os.path\n",
    "\n",
    "CREDENTIALS_JSON = 'credentials-boj.json'\n",
    "SCOPES = ['https://www.googleapis.com/auth/gmail.readonly']\n",
    "\n",
    "\n",
    "creds = None\n",
    "# The file token.json stores the user's access and refresh tokens, and is\n",
    "# created automatically when the authorization flow completes for the first\n",
    "# time.\n",
    "if os.path.exists('token.json'):\n",
    "    creds = Credentials.from_authorized_user_file('token.json', SCOPES)\n",
    "# If there are no (valid) credentials available, let the user log in.\n",
    "if not creds or not creds.valid:\n",
    "    if creds and creds.expired and creds.refresh_token:\n",
    "        creds.refresh(Request())\n",
    "    else:\n",
    "        flow = InstalledAppFlow.from_client_secrets_file(\n",
    "            CREDENTIALS_JSON, SCOPES)\n",
    "        creds = flow.run_local_server(port=0)\n",
    "    # Save the credentials for the next run\n",
    "    with open('token.json', 'w') as token:\n",
    "        token.write(creds.to_json())\n",
    "\n",
    "service = None\n",
    "service = build('gmail', 'v1', credentials=creds)"
   ]
  },
  {
   "cell_type": "code",
   "execution_count": 7,
   "metadata": {},
   "outputs": [],
   "source": [
    "# Call the Gmail API\n",
    "msg = ret = None\n",
    "try:\n",
    "    msg = service.users().labels().list(userId='me')\n",
    "    ret = msg.execute()\n",
    "except Exception as err:\n",
    "    print('msg: %s' % msg)\n",
    "    print('ret: %s' % ret)\n",
    "    print(f\"Unexqpected {err=}, {type(err)=}\")\n",
    "labels = ret.get('labels', [])"
   ]
  },
  {
   "cell_type": "code",
   "execution_count": 8,
   "metadata": {},
   "outputs": [
    {
     "name": "stdout",
     "output_type": "stream",
     "text": [
      "LABEL_NAME['CHAT']='CHAT'\n",
      "LABEL_NAME['SENT']='SENT'\n",
      "LABEL_NAME['INBOX']='INBOX'\n",
      "LABEL_NAME['IMPORTANT']='IMPORTANT'\n",
      "LABEL_NAME['TRASH']='TRASH'\n",
      "LABEL_NAME['DRAFT']='DRAFT'\n",
      "LABEL_NAME['SPAM']='SPAM'\n",
      "LABEL_NAME['CATEGORY_FORUMS']='CATEGORY_FORUMS'\n",
      "LABEL_NAME['CATEGORY_UPDATES']='CATEGORY_UPDATES'\n",
      "LABEL_NAME['CATEGORY_PERSONAL']='CATEGORY_PERSONAL'\n",
      "LABEL_NAME['CATEGORY_PROMOTIONS']='CATEGORY_PROMOTIONS'\n",
      "LABEL_NAME['CATEGORY_SOCIAL']='CATEGORY_SOCIAL'\n",
      "LABEL_NAME['STARRED']='STARRED'\n",
      "LABEL_NAME['UNREAD']='UNREAD'\n",
      "LABEL_NAME['Financial/ComputerShare']='Label_1347366805675793051'\n",
      "LABEL_NAME['Alerts']='Label_14'\n",
      "LABEL_NAME['Financial/Amazon and eBay']='Label_15'\n",
      "LABEL_NAME['School Stuff/SS']='Label_1580119754400583208'\n",
      "LABEL_NAME['RealEstate/InvestmentProperty']='Label_19'\n",
      "LABEL_NAME['Financial/Xfinity']='Label_1907346821561371581'\n",
      "LABEL_NAME['Financial/Farmers Insurance']='Label_208584323964383560'\n",
      "LABEL_NAME['Financial/Financial R&D']='Label_22'\n",
      "LABEL_NAME['My Forums/jobs']='Label_2337723078992604502'\n",
      "LABEL_NAME['My Forums']='Label_2354027813600559420'\n",
      "LABEL_NAME['RealEstate/BuildingPermit']='Label_24'\n",
      "LABEL_NAME['Financial/PayPal']='Label_2478364220241588288'\n",
      "LABEL_NAME['@SANCTUARY/Sanctuary/Gas']='Label_2482116058218830368'\n",
      "LABEL_NAME['RealEstate/Chumash']='Label_26'\n",
      "LABEL_NAME['RealEstate/Phoneix house']='Label_27'\n",
      "LABEL_NAME['My Forums/Next-door']='Label_2709818074721017098'\n",
      "LABEL_NAME['Financial/Fidelity']='Label_2987923992327702656'\n",
      "LABEL_NAME['Sent Messages']='Label_3'\n",
      "LABEL_NAME['RealEstate']='Label_30'\n",
      "LABEL_NAME['Financial/YoutubeTV']='Label_3014460216261070259'\n",
      "LABEL_NAME['RealEstate/Zillow']='Label_32'\n",
      "LABEL_NAME['Business']='Label_33'\n",
      "LABEL_NAME['School Stuff/WG']='Label_3330389495673865781'\n",
      "LABEL_NAME['Business/AWS']='Label_34'\n",
      "LABEL_NAME['Business/AWS-Marketplace']='Label_35'\n",
      "LABEL_NAME['IVAN']='Label_3567467711137578550'\n",
      "LABEL_NAME['Business/Repairs']='Label_3580755985831524189'\n",
      "LABEL_NAME['Business/Chase']='Label_36'\n",
      "LABEL_NAME['Financial/QuickBooks']='Label_3643834511470006441'\n",
      "LABEL_NAME['Financial/put.io']='Label_3647513240574847222'\n",
      "LABEL_NAME['Business/GitHUB']='Label_37'\n",
      "LABEL_NAME['Business/JOBOFFERS']='Label_4010238544751404059'\n",
      "LABEL_NAME['Business/NetworkRift, LLC']='Label_4039458955666563470'\n",
      "LABEL_NAME['@HOME']='Label_4107166250096529424'\n",
      "LABEL_NAME['@SANCTUARY']='Label_4256664484753561805'\n",
      "LABEL_NAME['Financial/Apple']='Label_4519116095530665996'\n",
      "LABEL_NAME['Business/CROSecConsulting, LLC']='Label_4624732728205526100'\n",
      "LABEL_NAME['Financial/Mint']='Label_4901347940065330727'\n",
      "LABEL_NAME['ALERT']='Label_494749873572984630'\n",
      "LABEL_NAME['BB/Basketball Camp']='Label_5088089190931567672'\n",
      "LABEL_NAME['EMAIL_CHANGE']='Label_5296938221189400509'\n",
      "LABEL_NAME['Financial/TCU']='Label_5479437781369538848'\n",
      "LABEL_NAME['Financial/Uber']='Label_5516978553311375047'\n",
      "LABEL_NAME['@SANCTUARY/Sanctuary/Water']='Label_5539563821300112887'\n",
      "LABEL_NAME['Financial/Tesla']='Label_5645054568873009185'\n",
      "LABEL_NAME['Financial/Sofi']='Label_5665894417177276581'\n",
      "LABEL_NAME['Financial/e-trade']='Label_5827587313761527254'\n",
      "LABEL_NAME['Business/AWSCost']='Label_5948471153165224572'\n",
      "LABEL_NAME['Financial']='Label_6'\n",
      "LABEL_NAME['Financial/WF']='Label_6557675481011966478'\n",
      "LABEL_NAME['My Forums/HBR']='Label_6735022208336811130'\n",
      "LABEL_NAME['Financial/Credit']='Label_6901507237854350059'\n",
      "LABEL_NAME['School Stuff']='Label_7'\n",
      "LABEL_NAME['BB']='Label_7044619457408565730'\n",
      "LABEL_NAME['Tata']='Label_7156887782795584238'\n",
      "LABEL_NAME['Financial/BofA']='Label_7321179545003539847'\n",
      "LABEL_NAME['School Stuff/SCU']='Label_7549541385072372252'\n",
      "LABEL_NAME['School Stuff/SJSU']='Label_7557094727155060221'\n",
      "LABEL_NAME['IJB']='Label_7558325846102224153'\n",
      "LABEL_NAME['zillow']='Label_756038808362321313'\n",
      "LABEL_NAME['_keep']='Label_7647350297933743500'\n",
      "LABEL_NAME['Financial/QB']='Label_7788277380429108339'\n",
      "LABEL_NAME['School Stuff/CALPoly']='Label_8156729269502416653'\n",
      "LABEL_NAME['School Stuff/BCP']='Label_8168116605886528766'\n",
      "LABEL_NAME['Financial/Microsoft']='Label_84374789216044827'\n",
      "LABEL_NAME['Financial/Medical']='Label_8603909389368402067'\n",
      "LABEL_NAME['Business/Google$$$']='Label_8935494701522494389'\n"
     ]
    }
   ],
   "source": [
    "# print labels\n",
    "if not labels:\n",
    "        print('No labels found.')\n",
    "else:\n",
    "    for label in labels:\n",
    "        print(\"LABEL_NAME[\\'%s\\']=\\'%s\\'\" % (label['name'], label['id']))"
   ]
  }
 ],
 "metadata": {
  "kernelspec": {
   "display_name": "venv",
   "language": "python",
   "name": "python3"
  },
  "language_info": {
   "codemirror_mode": {
    "name": "ipython",
    "version": 3
   },
   "file_extension": ".py",
   "mimetype": "text/x-python",
   "name": "python",
   "nbconvert_exporter": "python",
   "pygments_lexer": "ipython3",
   "version": "3.11.4"
  },
  "orig_nbformat": 4
 },
 "nbformat": 4,
 "nbformat_minor": 2
}
